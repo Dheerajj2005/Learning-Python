{
 "cells": [
  {
   "cell_type": "markdown",
   "id": "11601ec5",
   "metadata": {},
   "source": [
    "## Object Oriented Programming Challenge <br>\n",
    "For this challenge, create a bank account class that has two attributes: <br>\n",
    "<br>\n",
    "owner <br>\n",
    "balance <br>\n",
    "and two methods: <br> <br>\n",
    "\n",
    "deposit <br>\n",
    "withdraw <br>\n",
    "As an added requirement, withdrawals may not exceed the available balance. <br> <br>\n",
    "\n",
    "Instantiate your class, make several deposits and withdrawals, and test to make sure the account can't be overdrawn."
   ]
  },
  {
   "cell_type": "code",
   "execution_count": 37,
   "id": "823a9b1c",
   "metadata": {},
   "outputs": [],
   "source": [
    "class Account:\n",
    "    \n",
    "    def __init__(self, owner, balance):\n",
    "        self.owner = owner\n",
    "        self.balance = balance\n",
    "        \n",
    "    def __str__(self):\n",
    "        return f\"Account Owner : {self.owner} \\nAccount Balance : ${self.balance}\" \n",
    "    \n",
    "    def deposit(self, deposit):\n",
    "        self.balance = self.balance + deposit\n",
    "        print(\"Deposit Accepted\")\n",
    "    \n",
    "    def withdrawl(self, remove):\n",
    "        if (remove > self.balance):\n",
    "            print(\"Funds Unavailable!\")\n",
    "        else:\n",
    "            self.balance = self.balance - remove"
   ]
  },
  {
   "cell_type": "code",
   "execution_count": 38,
   "id": "76769eb2",
   "metadata": {},
   "outputs": [],
   "source": [
    "acct1 = Account('Jose',100)"
   ]
  },
  {
   "cell_type": "code",
   "execution_count": 31,
   "id": "27df0e3d",
   "metadata": {},
   "outputs": [
    {
     "name": "stdout",
     "output_type": "stream",
     "text": [
      "Account Owner : Jose \n",
      "Account Balance : $100\n"
     ]
    }
   ],
   "source": [
    "print(acct1)"
   ]
  },
  {
   "cell_type": "code",
   "execution_count": 32,
   "id": "9b2e2afa",
   "metadata": {},
   "outputs": [
    {
     "data": {
      "text/plain": [
       "'Jose'"
      ]
     },
     "execution_count": 32,
     "metadata": {},
     "output_type": "execute_result"
    }
   ],
   "source": [
    "acct1.owner"
   ]
  },
  {
   "cell_type": "code",
   "execution_count": 33,
   "id": "21a71738",
   "metadata": {},
   "outputs": [
    {
     "data": {
      "text/plain": [
       "100"
      ]
     },
     "execution_count": 33,
     "metadata": {},
     "output_type": "execute_result"
    }
   ],
   "source": [
    "acct1.balance"
   ]
  },
  {
   "cell_type": "code",
   "execution_count": 34,
   "id": "ab7dcfce",
   "metadata": {},
   "outputs": [
    {
     "name": "stdout",
     "output_type": "stream",
     "text": [
      "Deposit Accepted\n"
     ]
    }
   ],
   "source": [
    "acct1.deposit(50)"
   ]
  },
  {
   "cell_type": "code",
   "execution_count": 35,
   "id": "b474a809",
   "metadata": {},
   "outputs": [
    {
     "data": {
      "text/plain": [
       "150"
      ]
     },
     "execution_count": 35,
     "metadata": {},
     "output_type": "execute_result"
    }
   ],
   "source": [
    "acct1.balance"
   ]
  },
  {
   "cell_type": "code",
   "execution_count": 39,
   "id": "d492a94b",
   "metadata": {},
   "outputs": [],
   "source": [
    "acct1.withdrawl(75)"
   ]
  },
  {
   "cell_type": "code",
   "execution_count": 40,
   "id": "bc4dc1ef",
   "metadata": {},
   "outputs": [
    {
     "data": {
      "text/plain": [
       "25"
      ]
     },
     "execution_count": 40,
     "metadata": {},
     "output_type": "execute_result"
    }
   ],
   "source": [
    "acct1.balance"
   ]
  },
  {
   "cell_type": "code",
   "execution_count": 41,
   "id": "3440839e",
   "metadata": {},
   "outputs": [
    {
     "name": "stdout",
     "output_type": "stream",
     "text": [
      "Funds Unavailable!\n"
     ]
    }
   ],
   "source": [
    "acct1.withdrawl(50)"
   ]
  },
  {
   "cell_type": "code",
   "execution_count": null,
   "id": "30e23a79",
   "metadata": {},
   "outputs": [],
   "source": []
  }
 ],
 "metadata": {
  "kernelspec": {
   "display_name": "Python 3 (ipykernel)",
   "language": "python",
   "name": "python3"
  },
  "language_info": {
   "codemirror_mode": {
    "name": "ipython",
    "version": 3
   },
   "file_extension": ".py",
   "mimetype": "text/x-python",
   "name": "python",
   "nbconvert_exporter": "python",
   "pygments_lexer": "ipython3",
   "version": "3.11.5"
  }
 },
 "nbformat": 4,
 "nbformat_minor": 5
}
