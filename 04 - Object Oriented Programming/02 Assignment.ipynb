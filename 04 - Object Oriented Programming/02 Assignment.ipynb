{
 "cells": [
  {
   "cell_type": "markdown",
   "id": "e0597f98",
   "metadata": {},
   "source": [
    "## Object Oriented Programming Assignment"
   ]
  },
  {
   "cell_type": "markdown",
   "id": "a89fed1f",
   "metadata": {},
   "source": [
    "**Problem 1** <br> <br>\n",
    "Line class methods to accept coordinates as a pair of tuples and return the slope and distance of the line."
   ]
  },
  {
   "cell_type": "code",
   "execution_count": 3,
   "id": "2b5cc3d5",
   "metadata": {},
   "outputs": [],
   "source": [
    "import math"
   ]
  },
  {
   "cell_type": "code",
   "execution_count": 14,
   "id": "3f68ef05",
   "metadata": {},
   "outputs": [],
   "source": [
    "class Line:\n",
    "    \n",
    "    def __init__(self,cor1,cor2):\n",
    "        self.cor1 = cor1\n",
    "        self.cor2 = cor2\n",
    "        self.x = cor2[0] - cor1[0]\n",
    "        self.y = cor2[1] - cor1[1]\n",
    "        \n",
    "    def distance(self):\n",
    "        distance = math.sqrt((self.x**2) + (self.y**2))\n",
    "        return distance\n",
    "        \n",
    "    def slope(self):\n",
    "        slope = self.y / self.x \n",
    "        return slope\n",
    "        "
   ]
  },
  {
   "cell_type": "code",
   "execution_count": 15,
   "id": "32ae5ddd",
   "metadata": {},
   "outputs": [],
   "source": [
    "coordinate1 = (3,2)\n",
    "coordinate2 = (8,10)\n",
    "\n",
    "li = Line(coordinate1,coordinate2)"
   ]
  },
  {
   "cell_type": "code",
   "execution_count": 16,
   "id": "7c2b1246",
   "metadata": {},
   "outputs": [
    {
     "data": {
      "text/plain": [
       "9.433981132056603"
      ]
     },
     "execution_count": 16,
     "metadata": {},
     "output_type": "execute_result"
    }
   ],
   "source": [
    "li.distance()"
   ]
  },
  {
   "cell_type": "code",
   "execution_count": 17,
   "id": "5fd57fdf",
   "metadata": {},
   "outputs": [
    {
     "data": {
      "text/plain": [
       "1.6"
      ]
     },
     "execution_count": 17,
     "metadata": {},
     "output_type": "execute_result"
    }
   ],
   "source": [
    "\n",
    "li.slope()"
   ]
  },
  {
   "cell_type": "markdown",
   "id": "17c5f791",
   "metadata": {},
   "source": [
    "## Problem 2"
   ]
  },
  {
   "cell_type": "code",
   "execution_count": 22,
   "id": "dcef33f7",
   "metadata": {},
   "outputs": [],
   "source": [
    "class Cylinder:\n",
    "    \n",
    "    pi = 3.14\n",
    "    \n",
    "    def __init__(self,height=1,radius=1):\n",
    "        self.height = height\n",
    "        self.radius = radius\n",
    "        \n",
    "    def volume(self):\n",
    "        volume = Cylinder.pi * (self.radius**2) * self.height\n",
    "        return volume\n",
    "    \n",
    "    def surface_area(self):\n",
    "        surface_area = 2 * Cylinder.pi * self.radius * (self.radius + self.height)\n",
    "        return surface_area"
   ]
  },
  {
   "cell_type": "code",
   "execution_count": 23,
   "id": "f668506b",
   "metadata": {},
   "outputs": [],
   "source": [
    "c = Cylinder(2,3)"
   ]
  },
  {
   "cell_type": "code",
   "execution_count": 24,
   "id": "b6c5c11f",
   "metadata": {},
   "outputs": [
    {
     "data": {
      "text/plain": [
       "56.52"
      ]
     },
     "execution_count": 24,
     "metadata": {},
     "output_type": "execute_result"
    }
   ],
   "source": [
    "c.volume()"
   ]
  },
  {
   "cell_type": "code",
   "execution_count": 25,
   "id": "bae62ae1",
   "metadata": {},
   "outputs": [
    {
     "data": {
      "text/plain": [
       "94.2"
      ]
     },
     "execution_count": 25,
     "metadata": {},
     "output_type": "execute_result"
    }
   ],
   "source": [
    "c.surface_area()"
   ]
  }
 ],
 "metadata": {
  "kernelspec": {
   "display_name": "Python 3 (ipykernel)",
   "language": "python",
   "name": "python3"
  },
  "language_info": {
   "codemirror_mode": {
    "name": "ipython",
    "version": 3
   },
   "file_extension": ".py",
   "mimetype": "text/x-python",
   "name": "python",
   "nbconvert_exporter": "python",
   "pygments_lexer": "ipython3",
   "version": "3.11.5"
  }
 },
 "nbformat": 4,
 "nbformat_minor": 5
}
