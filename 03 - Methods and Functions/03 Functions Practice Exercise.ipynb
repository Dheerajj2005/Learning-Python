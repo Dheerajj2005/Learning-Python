{
 "cells": [
  {
   "cell_type": "markdown",
   "id": "2ffeaa21",
   "metadata": {},
   "source": [
    "### Function Practice Exercises"
   ]
  },
  {
   "cell_type": "markdown",
   "id": "40c09b0c",
   "metadata": {},
   "source": [
    "**LESSER OF TWO EVENS: Write a function that returns the lesser of two given numbers if both numbers are even, but returns the greater if one or both numbers are odd** <br>\n",
    "lesser_of_two_evens(2,4) --> 2 <br>\n",
    "lesser_of_two_evens(2,5) --> 5 <br>"
   ]
  },
  {
   "cell_type": "code",
   "execution_count": 1,
   "id": "58a6266b",
   "metadata": {},
   "outputs": [],
   "source": [
    "def lesser_of_evens(x,y):\n",
    "    if x%2==0 and y%2==0:\n",
    "        return min(x,y)\n",
    "    else:\n",
    "        return max(x,y)"
   ]
  },
  {
   "cell_type": "code",
   "execution_count": 2,
   "id": "7132bb1a",
   "metadata": {},
   "outputs": [
    {
     "data": {
      "text/plain": [
       "2"
      ]
     },
     "execution_count": 2,
     "metadata": {},
     "output_type": "execute_result"
    }
   ],
   "source": [
    "lesser_of_evens(2,4)"
   ]
  },
  {
   "cell_type": "code",
   "execution_count": 3,
   "id": "f5e042bd",
   "metadata": {},
   "outputs": [
    {
     "data": {
      "text/plain": [
       "5"
      ]
     },
     "execution_count": 3,
     "metadata": {},
     "output_type": "execute_result"
    }
   ],
   "source": [
    "lesser_of_evens(2,5)"
   ]
  },
  {
   "cell_type": "markdown",
   "id": "e30bfaa4",
   "metadata": {},
   "source": [
    "**ANIMAL CRACKERS: Write a function takes a two-word string and returns True if both words begin with same letter** <br>\n",
    "animal_crackers('Levelheaded Llama') --> True <br>\n",
    "animal_crackers('Crazy Kangaroo') --> False <br>"
   ]
  },
  {
   "cell_type": "code",
   "execution_count": 4,
   "id": "3823ab7e",
   "metadata": {},
   "outputs": [],
   "source": [
    "def animal_crackers(x):\n",
    "    list = x.split(' ')\n",
    "    if list[0][0] == list[1][0]:\n",
    "        return True\n",
    "    else:\n",
    "        return False"
   ]
  },
  {
   "cell_type": "code",
   "execution_count": 5,
   "id": "250c1e4a",
   "metadata": {},
   "outputs": [
    {
     "data": {
      "text/plain": [
       "True"
      ]
     },
     "execution_count": 5,
     "metadata": {},
     "output_type": "execute_result"
    }
   ],
   "source": [
    "animal_crackers('Levelheaded Llama')"
   ]
  },
  {
   "cell_type": "code",
   "execution_count": 6,
   "id": "0f143b17",
   "metadata": {},
   "outputs": [
    {
     "data": {
      "text/plain": [
       "False"
      ]
     },
     "execution_count": 6,
     "metadata": {},
     "output_type": "execute_result"
    }
   ],
   "source": [
    "animal_crackers('Crazy Kangaroo')"
   ]
  },
  {
   "cell_type": "markdown",
   "id": "57ed8900",
   "metadata": {},
   "source": [
    "**MAKES TWENTY: Given two integers, return True if the sum of the integers is 20 or if one of the integers is 20. If not, return False** <br>\n",
    "makes_twenty(20,10) --> True <br>\n",
    "makes_twenty(12,8) --> True <br>\n",
    "makes_twenty(2,3) --> False"
   ]
  },
  {
   "cell_type": "code",
   "execution_count": 7,
   "id": "dbe98942",
   "metadata": {},
   "outputs": [],
   "source": [
    "def makes_twenty(x, y):\n",
    "    if (x==20 or y==20) or (x+y==20):\n",
    "        return True\n",
    "    else:\n",
    "        return False"
   ]
  },
  {
   "cell_type": "code",
   "execution_count": 8,
   "id": "75c1f151",
   "metadata": {},
   "outputs": [
    {
     "data": {
      "text/plain": [
       "True"
      ]
     },
     "execution_count": 8,
     "metadata": {},
     "output_type": "execute_result"
    }
   ],
   "source": [
    "makes_twenty(20,10)"
   ]
  },
  {
   "cell_type": "code",
   "execution_count": 9,
   "id": "ec9f0582",
   "metadata": {},
   "outputs": [
    {
     "data": {
      "text/plain": [
       "True"
      ]
     },
     "execution_count": 9,
     "metadata": {},
     "output_type": "execute_result"
    }
   ],
   "source": [
    "makes_twenty(12,8)"
   ]
  },
  {
   "cell_type": "code",
   "execution_count": 10,
   "id": "08c96441",
   "metadata": {},
   "outputs": [
    {
     "data": {
      "text/plain": [
       "False"
      ]
     },
     "execution_count": 10,
     "metadata": {},
     "output_type": "execute_result"
    }
   ],
   "source": [
    "makes_twenty(2,3)"
   ]
  },
  {
   "cell_type": "markdown",
   "id": "c35aac19",
   "metadata": {},
   "source": [
    "## LEVEL 1 PROBLEMS"
   ]
  },
  {
   "cell_type": "markdown",
   "id": "981e318c",
   "metadata": {},
   "source": [
    "**OLD MACDONALD: Write a function that capitalizes the first and fourth letters of a name** <br>\n",
    "old_macdonald('macdonald') --> MacDonald <br> <br>\n",
    "Note: 'macdonald'.capitalize() returns 'Macdonald' <br>"
   ]
  },
  {
   "cell_type": "code",
   "execution_count": 11,
   "id": "978424ed",
   "metadata": {},
   "outputs": [],
   "source": [
    "def old_macdonald(x):\n",
    "    if len(x) > 3:\n",
    "        return x[:3].capitalize() + x[3:].capitalize()\n",
    "    else:\n",
    "        \"Name is too short\""
   ]
  },
  {
   "cell_type": "code",
   "execution_count": 12,
   "id": "03515cb2",
   "metadata": {},
   "outputs": [
    {
     "data": {
      "text/plain": [
       "'MacDonald'"
      ]
     },
     "execution_count": 12,
     "metadata": {},
     "output_type": "execute_result"
    }
   ],
   "source": [
    "old_macdonald('macdonald')"
   ]
  },
  {
   "cell_type": "markdown",
   "id": "cf04c70f",
   "metadata": {},
   "source": [
    "**MASTER YODA: Given a sentence, return a sentence with the words reversed** <br>\n",
    "master_yoda('I am home') --> 'home am I' <br>\n",
    "master_yoda('We are ready') --> 'ready are We' <br>\n",
    "Note: The .join() method may be useful here. The .join() method allows you to join together strings in a list with some connector string. For example, some uses of the .join() method: <br>\n",
    "\n",
    ">>> \"--\".join(['a','b','c']) <br>\n",
    ">>> 'a--b--c' <br>\n",
    "This means if you had a list of words you wanted to turn back into a sentence, you could just join them with a single space string: <br> <br>\n",
    "\n",
    ">>> \" \".join(['Hello','world']) <br>\n",
    ">>> \"Hello world\""
   ]
  },
  {
   "cell_type": "code",
   "execution_count": 13,
   "id": "2165b74f",
   "metadata": {},
   "outputs": [],
   "source": [
    "def master_yoda(x):\n",
    "    list = x.split(' ')\n",
    "    rev_list = list[::-1]\n",
    "    final = \" \".join(rev_list)\n",
    "    print(final)"
   ]
  },
  {
   "cell_type": "code",
   "execution_count": 14,
   "id": "04797a95",
   "metadata": {},
   "outputs": [
    {
     "name": "stdout",
     "output_type": "stream",
     "text": [
      "home am I\n"
     ]
    }
   ],
   "source": [
    "master_yoda('I am home')"
   ]
  },
  {
   "cell_type": "code",
   "execution_count": 15,
   "id": "78ee80d4",
   "metadata": {},
   "outputs": [
    {
     "name": "stdout",
     "output_type": "stream",
     "text": [
      "ready are We\n"
     ]
    }
   ],
   "source": [
    "master_yoda('We are ready')"
   ]
  },
  {
   "cell_type": "markdown",
   "id": "684abbe1",
   "metadata": {},
   "source": [
    "**ALMOST THERE: Given an integer n, return True if n is within 10 of either 100 or 200** <br>\n",
    "almost_there(90) --> True <br>\n",
    "almost_there(104) --> True <br>\n",
    "almost_there(150) --> False <br>\n",
    "almost_there(209) --> True <br>\n",
    "NOTE: abs(num) returns the absolute value of a number"
   ]
  },
  {
   "cell_type": "code",
   "execution_count": 16,
   "id": "fd54f43b",
   "metadata": {},
   "outputs": [],
   "source": [
    "def almost_there(x):\n",
    "    return ((abs(100 - x) <= 10) or (abs(200 - x) <= 10))"
   ]
  },
  {
   "cell_type": "code",
   "execution_count": 17,
   "id": "45f51caa",
   "metadata": {},
   "outputs": [
    {
     "data": {
      "text/plain": [
       "True"
      ]
     },
     "execution_count": 17,
     "metadata": {},
     "output_type": "execute_result"
    }
   ],
   "source": [
    "almost_there(90)"
   ]
  },
  {
   "cell_type": "code",
   "execution_count": 18,
   "id": "81218115",
   "metadata": {},
   "outputs": [
    {
     "data": {
      "text/plain": [
       "False"
      ]
     },
     "execution_count": 18,
     "metadata": {},
     "output_type": "execute_result"
    }
   ],
   "source": [
    "almost_there(150)"
   ]
  },
  {
   "cell_type": "markdown",
   "id": "78c38b7d",
   "metadata": {},
   "source": [
    "## LEVEL 2 PROBLEMS"
   ]
  },
  {
   "cell_type": "markdown",
   "id": "1bf4641e",
   "metadata": {},
   "source": [
    "**FIND 33:\n",
    "Given a list of ints, return True if the array contains a 3 next to a 3 somewhere.** <br>\n",
    "<br>\n",
    "has_33([1, 3, 3]) → True <br>\n",
    "has_33([1, 3, 1, 3]) → False <br>\n",
    "has_33([3, 1, 3]) → False <br>"
   ]
  },
  {
   "cell_type": "code",
   "execution_count": 19,
   "id": "2950cc98",
   "metadata": {},
   "outputs": [],
   "source": [
    "def has_33(x):\n",
    "    for i in range(0, len(x)-1):\n",
    "        if x[i] == 3 and x[i+1] == 3:\n",
    "            return True\n",
    "    return False"
   ]
  },
  {
   "cell_type": "code",
   "execution_count": 20,
   "id": "e6af8193",
   "metadata": {},
   "outputs": [
    {
     "data": {
      "text/plain": [
       "True"
      ]
     },
     "execution_count": 20,
     "metadata": {},
     "output_type": "execute_result"
    }
   ],
   "source": [
    "has_33([1, 3, 3])"
   ]
  },
  {
   "cell_type": "code",
   "execution_count": 21,
   "id": "076ac6f5",
   "metadata": {},
   "outputs": [
    {
     "data": {
      "text/plain": [
       "False"
      ]
     },
     "execution_count": 21,
     "metadata": {},
     "output_type": "execute_result"
    }
   ],
   "source": [
    "has_33([1, 3, 1, 3])"
   ]
  },
  {
   "cell_type": "markdown",
   "id": "b3251a08",
   "metadata": {},
   "source": [
    "**PAPER DOLL: Given a string, return a string where for every character in the original there are three characters** <br> <br>\n",
    "paper_doll('Hello') --> 'HHHeeellllllooo' <br>\n",
    "paper_doll('Mississippi') --> 'MMMiiissssssiiippppppiii' <br>"
   ]
  },
  {
   "cell_type": "code",
   "execution_count": 22,
   "id": "7ccbf1d0",
   "metadata": {},
   "outputs": [],
   "source": [
    "def paper_doll(x):\n",
    "    listt = ''\n",
    "    for i in range(0, len(x)-1, 3):\n",
    "        if x[i]==x[i+1]==x[i+2] :\n",
    "            listt = listt + (x[i])\n",
    "    return listt\n",
    "        "
   ]
  },
  {
   "cell_type": "code",
   "execution_count": 23,
   "id": "eaeb2a30",
   "metadata": {},
   "outputs": [
    {
     "data": {
      "text/plain": [
       "'Hello'"
      ]
     },
     "execution_count": 23,
     "metadata": {},
     "output_type": "execute_result"
    }
   ],
   "source": [
    "paper_doll('HHHeeellllllooo')"
   ]
  },
  {
   "cell_type": "code",
   "execution_count": 24,
   "id": "01b81952",
   "metadata": {},
   "outputs": [
    {
     "data": {
      "text/plain": [
       "'Missippi'"
      ]
     },
     "execution_count": 24,
     "metadata": {},
     "output_type": "execute_result"
    }
   ],
   "source": [
    "paper_doll('MMMiiissssssiiippppppiii')"
   ]
  },
  {
   "cell_type": "markdown",
   "id": "2282ec48",
   "metadata": {},
   "source": [
    "**BLACKJACK: Given three integers between 1 and 11, if their sum is less than or equal to 21, return their sum. If their sum exceeds 21 and there's an eleven, reduce the total sum by 10. Finally, if the sum (even after adjustment) exceeds 21, return 'BUST'** <br>\n",
    "blackjack(5,6,7) --> 18 <br>\n",
    "blackjack(9,9,9) --> 'BUST' <br>\n",
    "blackjack(9,9,11) --> 19 <br>"
   ]
  },
  {
   "cell_type": "code",
   "execution_count": 25,
   "id": "81ddbaec",
   "metadata": {},
   "outputs": [],
   "source": [
    "def blackjack(a,b,c):\n",
    "    sum = a+b+c\n",
    "    if sum  < 21:\n",
    "        return sum\n",
    "    else:\n",
    "        if a==11 or b==11 or c==11:\n",
    "            sum = sum - 10\n",
    "        if sum < 21:\n",
    "            return sum\n",
    "        else:\n",
    "            return 'BUST'"
   ]
  },
  {
   "cell_type": "code",
   "execution_count": 26,
   "id": "1c542458",
   "metadata": {},
   "outputs": [
    {
     "data": {
      "text/plain": [
       "18"
      ]
     },
     "execution_count": 26,
     "metadata": {},
     "output_type": "execute_result"
    }
   ],
   "source": [
    "blackjack(5,6,7)"
   ]
  },
  {
   "cell_type": "code",
   "execution_count": 27,
   "id": "65f0a2ca",
   "metadata": {},
   "outputs": [
    {
     "data": {
      "text/plain": [
       "19"
      ]
     },
     "execution_count": 27,
     "metadata": {},
     "output_type": "execute_result"
    }
   ],
   "source": [
    "blackjack(9,9,11)"
   ]
  },
  {
   "cell_type": "code",
   "execution_count": 28,
   "id": "6320adfe",
   "metadata": {},
   "outputs": [
    {
     "data": {
      "text/plain": [
       "'BUST'"
      ]
     },
     "execution_count": 28,
     "metadata": {},
     "output_type": "execute_result"
    }
   ],
   "source": [
    "blackjack(9,9,9)"
   ]
  },
  {
   "cell_type": "markdown",
   "id": "b8212af4",
   "metadata": {},
   "source": [
    "**SUMMER OF '69: Return the sum of the numbers in the array, except ignore sections of numbers starting with a 6 and extending to the next 9 (every 6 will be followed by at least one 9). Return 0 for no numbers.** <br>\n",
    "summer_69([1, 3, 5]) --> 9 <br>\n",
    "summer_69([4, 5, 6, 7, 8, 9]) --> 9 <br>\n",
    "summer_69([2, 1, 6, 9, 11]) --> 14 <br>"
   ]
  },
  {
   "cell_type": "code",
   "execution_count": 29,
   "id": "0c822164",
   "metadata": {},
   "outputs": [],
   "source": [
    "def summer_69(arr):\n",
    "    total = 0\n",
    "    add = True\n",
    "    for num in arr:\n",
    "        while add:\n",
    "            if num != 6:\n",
    "                total += num\n",
    "                break\n",
    "            else:\n",
    "                add = False\n",
    "        while not add:\n",
    "            if num != 9:\n",
    "                break\n",
    "            else:\n",
    "                add = True\n",
    "                break\n",
    "    return total\n",
    "            "
   ]
  },
  {
   "cell_type": "code",
   "execution_count": 30,
   "id": "4e648f58",
   "metadata": {},
   "outputs": [
    {
     "data": {
      "text/plain": [
       "9"
      ]
     },
     "execution_count": 30,
     "metadata": {},
     "output_type": "execute_result"
    }
   ],
   "source": [
    "summer_69([1, 3, 5])"
   ]
  },
  {
   "cell_type": "code",
   "execution_count": 31,
   "id": "c48d95f6",
   "metadata": {},
   "outputs": [
    {
     "data": {
      "text/plain": [
       "9"
      ]
     },
     "execution_count": 31,
     "metadata": {},
     "output_type": "execute_result"
    }
   ],
   "source": [
    "summer_69([4, 5, 6, 7, 8, 9])"
   ]
  },
  {
   "cell_type": "code",
   "execution_count": 32,
   "id": "3ddafe9c",
   "metadata": {},
   "outputs": [
    {
     "data": {
      "text/plain": [
       "14"
      ]
     },
     "execution_count": 32,
     "metadata": {},
     "output_type": "execute_result"
    }
   ],
   "source": [
    "summer_69([2, 1, 6, 9, 11])"
   ]
  }
 ],
 "metadata": {
  "kernelspec": {
   "display_name": "Python 3 (ipykernel)",
   "language": "python",
   "name": "python3"
  },
  "language_info": {
   "codemirror_mode": {
    "name": "ipython",
    "version": 3
   },
   "file_extension": ".py",
   "mimetype": "text/x-python",
   "name": "python",
   "nbconvert_exporter": "python",
   "pygments_lexer": "ipython3",
   "version": "3.11.5"
  }
 },
 "nbformat": 4,
 "nbformat_minor": 5
}
