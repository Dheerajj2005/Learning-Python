{
 "cells": [
  {
   "cell_type": "markdown",
   "id": "aedec4d3",
   "metadata": {},
   "source": [
    "### Methods\n",
    "**Methods perform specific actions on an object and can also take arguments, just like a function.**<br> \n",
    "<br>\n",
    "*Methods are in the form:* <br>\n",
    "object.method(arg1,arg2,etc...)"
   ]
  },
  {
   "cell_type": "code",
   "execution_count": 1,
   "id": "263becd4",
   "metadata": {},
   "outputs": [],
   "source": [
    "# Create a simple list \n",
    "lst = [1,2,3,4,5]"
   ]
  },
  {
   "cell_type": "markdown",
   "id": "e43e9e41",
   "metadata": {},
   "source": [
    "**The methods for a list are:** <br>\n",
    "1) append <br>\n",
    "2) count <br>\n",
    "3) extend <br>\n",
    "4) insert <br>\n",
    "5) pop <br>\n",
    "6) remove <br>\n",
    "7) reverse <br>\n",
    "8) sort"
   ]
  },
  {
   "cell_type": "code",
   "execution_count": 2,
   "id": "048f7ba0",
   "metadata": {},
   "outputs": [],
   "source": [
    "# Adding a element at the end \n",
    "lst.append(6)"
   ]
  },
  {
   "cell_type": "code",
   "execution_count": 3,
   "id": "57228870",
   "metadata": {},
   "outputs": [
    {
     "data": {
      "text/plain": [
       "[1, 2, 3, 4, 5, 6]"
      ]
     },
     "execution_count": 3,
     "metadata": {},
     "output_type": "execute_result"
    }
   ],
   "source": [
    "lst"
   ]
  },
  {
   "cell_type": "code",
   "execution_count": 4,
   "id": "0531278c",
   "metadata": {},
   "outputs": [
    {
     "data": {
      "text/plain": [
       "1"
      ]
     },
     "execution_count": 4,
     "metadata": {},
     "output_type": "execute_result"
    }
   ],
   "source": [
    "# To check how many times 4 appears\n",
    "lst.count(4)"
   ]
  },
  {
   "cell_type": "code",
   "execution_count": 5,
   "id": "903e82cb",
   "metadata": {},
   "outputs": [
    {
     "name": "stdout",
     "output_type": "stream",
     "text": [
      "Help on built-in function count:\n",
      "\n",
      "count(value, /) method of builtins.list instance\n",
      "    Return number of occurrences of value.\n",
      "\n"
     ]
    }
   ],
   "source": [
    "# You can use Shift+Tab in the Jupyter Notebook to get more help about the method. \n",
    "# In general Python you can use the help() function:\n",
    "help(lst.count)"
   ]
  },
  {
   "cell_type": "code",
   "execution_count": null,
   "id": "55b563c2",
   "metadata": {},
   "outputs": [],
   "source": []
  },
  {
   "cell_type": "code",
   "execution_count": null,
   "id": "cb458788",
   "metadata": {},
   "outputs": [],
   "source": []
  }
 ],
 "metadata": {
  "kernelspec": {
   "display_name": "Python 3 (ipykernel)",
   "language": "python",
   "name": "python3"
  },
  "language_info": {
   "codemirror_mode": {
    "name": "ipython",
    "version": 3
   },
   "file_extension": ".py",
   "mimetype": "text/x-python",
   "name": "python",
   "nbconvert_exporter": "python",
   "pygments_lexer": "ipython3",
   "version": "3.11.5"
  }
 },
 "nbformat": 4,
 "nbformat_minor": 5
}
