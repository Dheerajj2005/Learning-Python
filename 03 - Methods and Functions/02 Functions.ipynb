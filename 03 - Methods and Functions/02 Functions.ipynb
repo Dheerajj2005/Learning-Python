{
 "cells": [
  {
   "cell_type": "markdown",
   "id": "55ccbf0e",
   "metadata": {},
   "source": [
    "## Functions ##\n",
    "**What is Function ?** <br>\n",
    "1) Formally, a function is a useful device that groups together a set of statements so they can be run more than once. They can also let us specify parameters that can serve as inputs to the functions.<br>\n",
    "\n",
    "2) On a more fundamental level, functions allow us to not have to repeatedly write the same code again and again.<br>\n",
    "\n",
    "**Why to use functions ?** <br>\n",
    "Put simply, you should use functions when you plan on using a block of code multiple times. The function will allow you to call the same block of code without having to write it multiple times. This in turn will allow you to create more complex Python scripts. <br>\n",
    "\n",
    "**Topics**\n",
    "* def keyword\n",
    "* simple example of a function\n",
    "* calling a function with ()\n",
    "* accepting parameters\n",
    "* print versus return\n",
    "* adding in logic inside a function\n",
    "* multiple returns inside a function\n",
    "* adding in loops inside a function\n",
    "* tuple unpacking\n",
    "* interactions between functions"
   ]
  },
  {
   "cell_type": "markdown",
   "id": "813dc69b",
   "metadata": {},
   "source": [
    "### def keyword"
   ]
  },
  {
   "cell_type": "code",
   "execution_count": 4,
   "id": "8a5dcb78",
   "metadata": {},
   "outputs": [],
   "source": [
    "def name_of_function(arg1, arg2):\n",
    "    \n",
    "    '''\n",
    "    This is where the function's Code is written.\n",
    "    '''\n",
    "    \n",
    "    # return the result"
   ]
  },
  {
   "cell_type": "code",
   "execution_count": 5,
   "id": "2cc0c351",
   "metadata": {},
   "outputs": [],
   "source": [
    "def say_hello():\n",
    "    print(\"Hello World\")"
   ]
  },
  {
   "cell_type": "code",
   "execution_count": 6,
   "id": "a2ec2c3b",
   "metadata": {},
   "outputs": [
    {
     "name": "stdout",
     "output_type": "stream",
     "text": [
      "Hello World\n"
     ]
    }
   ],
   "source": [
    "# Calling function with ()\n",
    "say_hello()"
   ]
  },
  {
   "cell_type": "markdown",
   "id": "b7d6f338",
   "metadata": {},
   "source": [
    "### Calling function without ()"
   ]
  },
  {
   "cell_type": "code",
   "execution_count": 7,
   "id": "22b42b30",
   "metadata": {},
   "outputs": [
    {
     "data": {
      "text/plain": [
       "<function __main__.say_hello()>"
      ]
     },
     "execution_count": 7,
     "metadata": {},
     "output_type": "execute_result"
    }
   ],
   "source": [
    "say_hello"
   ]
  },
  {
   "cell_type": "markdown",
   "id": "1b2db7d3",
   "metadata": {},
   "source": [
    "If you forget the parenthesis (), it will simply display the fact that say_hello is a function."
   ]
  },
  {
   "cell_type": "markdown",
   "id": "4af4da85",
   "metadata": {},
   "source": [
    "### Parameters (Arguements)"
   ]
  },
  {
   "cell_type": "code",
   "execution_count": 8,
   "id": "959b5224",
   "metadata": {},
   "outputs": [],
   "source": [
    "def greetings(name):\n",
    "    print(f'Hello {name}')"
   ]
  },
  {
   "cell_type": "code",
   "execution_count": 9,
   "id": "373f7a85",
   "metadata": {},
   "outputs": [
    {
     "name": "stdout",
     "output_type": "stream",
     "text": [
      "Hello Dheeraj\n"
     ]
    }
   ],
   "source": [
    "greetings('Dheeraj')"
   ]
  },
  {
   "cell_type": "markdown",
   "id": "7b999c24",
   "metadata": {},
   "source": [
    "### Using return\n",
    "<br>\n",
    "if we actually want to save the resulting variable we need to use the return keyword."
   ]
  },
  {
   "cell_type": "code",
   "execution_count": 10,
   "id": "fb0e6358",
   "metadata": {},
   "outputs": [],
   "source": [
    "def add_num(num1, num2):\n",
    "    return num1+num2"
   ]
  },
  {
   "cell_type": "code",
   "execution_count": 11,
   "id": "ad9ecd8f",
   "metadata": {},
   "outputs": [
    {
     "data": {
      "text/plain": [
       "9"
      ]
     },
     "execution_count": 11,
     "metadata": {},
     "output_type": "execute_result"
    }
   ],
   "source": [
    "add_num(4,5)"
   ]
  },
  {
   "cell_type": "code",
   "execution_count": 14,
   "id": "42917bfa",
   "metadata": {},
   "outputs": [],
   "source": [
    "# value can be saved as variable due to return \n",
    "result = add_num(4,5)"
   ]
  },
  {
   "cell_type": "code",
   "execution_count": 15,
   "id": "2ceaf954",
   "metadata": {},
   "outputs": [
    {
     "name": "stdout",
     "output_type": "stream",
     "text": [
      "9\n"
     ]
    }
   ],
   "source": [
    "print(result)"
   ]
  },
  {
   "cell_type": "code",
   "execution_count": 16,
   "id": "8d2830b4",
   "metadata": {},
   "outputs": [
    {
     "data": {
      "text/plain": [
       "'onetwo'"
      ]
     },
     "execution_count": 16,
     "metadata": {},
     "output_type": "execute_result"
    }
   ],
   "source": [
    "add_num('one', 'two')"
   ]
  },
  {
   "cell_type": "markdown",
   "id": "62803c6e",
   "metadata": {},
   "source": [
    "### What's Difference between return and print"
   ]
  },
  {
   "cell_type": "markdown",
   "id": "c05c4aa0",
   "metadata": {},
   "source": [
    "**The return keyword allows you to actually save the result of the output of a function as a variable. The print() function simply displays the output to you, but doesn't save it for future use. Let's explore this in more detail**"
   ]
  },
  {
   "cell_type": "code",
   "execution_count": 17,
   "id": "d2b3a291",
   "metadata": {},
   "outputs": [],
   "source": [
    "def print_result(a,b):\n",
    "    print(a,b)"
   ]
  },
  {
   "cell_type": "code",
   "execution_count": 18,
   "id": "e01affa8",
   "metadata": {},
   "outputs": [],
   "source": [
    "def return_result(a,b):\n",
    "    return a+b"
   ]
  },
  {
   "cell_type": "code",
   "execution_count": 19,
   "id": "569f2796",
   "metadata": {},
   "outputs": [
    {
     "name": "stdout",
     "output_type": "stream",
     "text": [
      "10 5\n"
     ]
    }
   ],
   "source": [
    "print_result(10,5)"
   ]
  },
  {
   "cell_type": "code",
   "execution_count": 20,
   "id": "97084aab",
   "metadata": {},
   "outputs": [
    {
     "data": {
      "text/plain": [
       "15"
      ]
     },
     "execution_count": 20,
     "metadata": {},
     "output_type": "execute_result"
    }
   ],
   "source": [
    "return_result(10,5)"
   ]
  },
  {
   "cell_type": "markdown",
   "id": "7c8c2d97",
   "metadata": {},
   "source": [
    "**But what happens if we actually want to save this result for later use?**"
   ]
  },
  {
   "cell_type": "code",
   "execution_count": 21,
   "id": "d7df1730",
   "metadata": {},
   "outputs": [
    {
     "name": "stdout",
     "output_type": "stream",
     "text": [
      "20 20\n"
     ]
    }
   ],
   "source": [
    "my_result = print_result(20,20)"
   ]
  },
  {
   "cell_type": "code",
   "execution_count": 22,
   "id": "e376b733",
   "metadata": {},
   "outputs": [],
   "source": [
    "my_result"
   ]
  },
  {
   "cell_type": "code",
   "execution_count": 23,
   "id": "53205e0f",
   "metadata": {},
   "outputs": [
    {
     "data": {
      "text/plain": [
       "NoneType"
      ]
     },
     "execution_count": 23,
     "metadata": {},
     "output_type": "execute_result"
    }
   ],
   "source": [
    "type(my_result)"
   ]
  },
  {
   "cell_type": "markdown",
   "id": "156050b1",
   "metadata": {},
   "source": [
    "**print_result() doesn't let you actually save the result to a variable! It only prints it out, with print() returning None for the assignment!**"
   ]
  },
  {
   "cell_type": "code",
   "execution_count": 24,
   "id": "f4911d50",
   "metadata": {},
   "outputs": [],
   "source": [
    "my_result = return_result(20,20)"
   ]
  },
  {
   "cell_type": "code",
   "execution_count": 25,
   "id": "5fc6b9c7",
   "metadata": {},
   "outputs": [
    {
     "data": {
      "text/plain": [
       "40"
      ]
     },
     "execution_count": 25,
     "metadata": {},
     "output_type": "execute_result"
    }
   ],
   "source": [
    "my_result"
   ]
  },
  {
   "cell_type": "code",
   "execution_count": 26,
   "id": "0c544920",
   "metadata": {},
   "outputs": [
    {
     "data": {
      "text/plain": [
       "80"
      ]
     },
     "execution_count": 26,
     "metadata": {},
     "output_type": "execute_result"
    }
   ],
   "source": [
    "my_result + my_result"
   ]
  },
  {
   "cell_type": "markdown",
   "id": "ba60c576",
   "metadata": {},
   "source": [
    "### Check if a number is even"
   ]
  },
  {
   "cell_type": "code",
   "execution_count": 27,
   "id": "da08eb57",
   "metadata": {},
   "outputs": [],
   "source": [
    "def even_check(number):\n",
    "    return number % 2 == 0"
   ]
  },
  {
   "cell_type": "code",
   "execution_count": 28,
   "id": "405a7f8e",
   "metadata": {},
   "outputs": [
    {
     "data": {
      "text/plain": [
       "True"
      ]
     },
     "execution_count": 28,
     "metadata": {},
     "output_type": "execute_result"
    }
   ],
   "source": [
    "even_check(20)"
   ]
  },
  {
   "cell_type": "code",
   "execution_count": 29,
   "id": "fb0c5206",
   "metadata": {},
   "outputs": [
    {
     "data": {
      "text/plain": [
       "False"
      ]
     },
     "execution_count": 29,
     "metadata": {},
     "output_type": "execute_result"
    }
   ],
   "source": [
    "even_check(21)"
   ]
  },
  {
   "cell_type": "markdown",
   "id": "547015d9",
   "metadata": {},
   "source": [
    "### Check if any number in a list is even"
   ]
  },
  {
   "cell_type": "code",
   "execution_count": 30,
   "id": "33cf09f6",
   "metadata": {},
   "outputs": [],
   "source": [
    "def check_even_list(num_list):\n",
    "    # go through every number\n",
    "    for number in num_list:\n",
    "        if number % 2 == 0:\n",
    "            return True\n",
    "        else:\n",
    "            return False"
   ]
  },
  {
   "cell_type": "code",
   "execution_count": 31,
   "id": "03ddebab",
   "metadata": {},
   "outputs": [
    {
     "data": {
      "text/plain": [
       "False"
      ]
     },
     "execution_count": 31,
     "metadata": {},
     "output_type": "execute_result"
    }
   ],
   "source": [
    "check_even_list([1,2,3])"
   ]
  },
  {
   "cell_type": "markdown",
   "id": "01fa9f0a",
   "metadata": {},
   "source": [
    "It is returning False after hitting the first 1 <br>\n",
    "his returns False at the very first odd number <br>\n",
    "It doesn't end up checking the other numbers in the list <br>"
   ]
  },
  {
   "cell_type": "markdown",
   "id": "2d12d793",
   "metadata": {},
   "source": [
    "#### We need to initiate a return False AFTER running through the entire loop"
   ]
  },
  {
   "cell_type": "code",
   "execution_count": 32,
   "id": "2e9ff620",
   "metadata": {},
   "outputs": [],
   "source": [
    "def check_even_list(num_list):\n",
    "    # Go through each number\n",
    "    for number in num_list:\n",
    "        # Once we get a \"hit\" on an even number, we return True\n",
    "        if number % 2 == 0:\n",
    "            return True\n",
    "        # Don't do anything if its not even\n",
    "        else:\n",
    "            pass\n",
    "    # the indentation This ensures we run through the entire for loop    \n",
    "    return False"
   ]
  },
  {
   "cell_type": "code",
   "execution_count": 33,
   "id": "1a343dba",
   "metadata": {},
   "outputs": [
    {
     "data": {
      "text/plain": [
       "True"
      ]
     },
     "execution_count": 33,
     "metadata": {},
     "output_type": "execute_result"
    }
   ],
   "source": [
    "check_even_list([1,2,3])"
   ]
  },
  {
   "cell_type": "code",
   "execution_count": 34,
   "id": "74b609ff",
   "metadata": {},
   "outputs": [
    {
     "data": {
      "text/plain": [
       "False"
      ]
     },
     "execution_count": 34,
     "metadata": {},
     "output_type": "execute_result"
    }
   ],
   "source": [
    "check_even_list([1,3,5])"
   ]
  },
  {
   "cell_type": "markdown",
   "id": "26514c81",
   "metadata": {},
   "source": [
    "### Return all even numbers in a list"
   ]
  },
  {
   "cell_type": "code",
   "execution_count": 38,
   "id": "d4c71f66",
   "metadata": {},
   "outputs": [],
   "source": [
    "def check_even_list(num_list):\n",
    "    \n",
    "    even_numbers = []\n",
    "    \n",
    "    for number in num_list:\n",
    "        if number % 2 == 0:\n",
    "            even_numbers.append(number)\n",
    "        else:\n",
    "            pass\n",
    "    return even_numbers"
   ]
  },
  {
   "cell_type": "code",
   "execution_count": 39,
   "id": "2a3de0ab",
   "metadata": {},
   "outputs": [
    {
     "data": {
      "text/plain": [
       "[2, 4, 6]"
      ]
     },
     "execution_count": 39,
     "metadata": {},
     "output_type": "execute_result"
    }
   ],
   "source": [
    "check_even_list([1,2,3,4,5,6])"
   ]
  },
  {
   "cell_type": "code",
   "execution_count": 40,
   "id": "4da3b3b2",
   "metadata": {},
   "outputs": [
    {
     "data": {
      "text/plain": [
       "[]"
      ]
     },
     "execution_count": 40,
     "metadata": {},
     "output_type": "execute_result"
    }
   ],
   "source": [
    "check_even_list([1,3,5])"
   ]
  },
  {
   "cell_type": "markdown",
   "id": "aa66be35",
   "metadata": {},
   "source": [
    "### Returning Tuples for Unpacking"
   ]
  },
  {
   "cell_type": "code",
   "execution_count": 41,
   "id": "94f0e681",
   "metadata": {},
   "outputs": [],
   "source": [
    "stock_prices = [('AAPL',200), ('GOOG',300), ('MSFT',400)]"
   ]
  },
  {
   "cell_type": "code",
   "execution_count": 42,
   "id": "3de92656",
   "metadata": {},
   "outputs": [
    {
     "name": "stdout",
     "output_type": "stream",
     "text": [
      "('AAPL', 200)\n",
      "('GOOG', 300)\n",
      "('MSFT', 400)\n"
     ]
    }
   ],
   "source": [
    "for item in stock_prices:\n",
    "    print(item)"
   ]
  },
  {
   "cell_type": "code",
   "execution_count": 43,
   "id": "7be7a368",
   "metadata": {},
   "outputs": [
    {
     "name": "stdout",
     "output_type": "stream",
     "text": [
      "AAPL\n",
      "GOOG\n",
      "MSFT\n"
     ]
    }
   ],
   "source": [
    "for stock, price in stock_prices:\n",
    "    print(stock)"
   ]
  },
  {
   "cell_type": "code",
   "execution_count": 44,
   "id": "1bf85e6d",
   "metadata": {},
   "outputs": [
    {
     "name": "stdout",
     "output_type": "stream",
     "text": [
      "200\n",
      "300\n",
      "400\n"
     ]
    }
   ],
   "source": [
    "for stock,price in stock_prices:\n",
    "    print(price)"
   ]
  },
  {
   "cell_type": "code",
   "execution_count": 45,
   "id": "60ac180a",
   "metadata": {},
   "outputs": [],
   "source": [
    "work_hours = [('Abby',100), ('Billy',400), ('Cassie',800)]"
   ]
  },
  {
   "cell_type": "markdown",
   "id": "deb34e53",
   "metadata": {},
   "source": [
    "The employee of the month function will return both the name and number of hours worked for the top performer"
   ]
  },
  {
   "cell_type": "code",
   "execution_count": 46,
   "id": "8ec887b9",
   "metadata": {},
   "outputs": [],
   "source": [
    "def employee_check(work_hours):\n",
    "    # set some value to initially beat like zero hours\n",
    "    current_max = 0\n",
    "    employee_of_month = ''\n",
    "    \n",
    "    for employee,hours in work_hours:\n",
    "        if hours > current_max:\n",
    "            current_max = hours\n",
    "            employee_of_month = employee\n",
    "        else:\n",
    "            pass\n",
    "        \n",
    "    return (employee_of_month, current_max)"
   ]
  },
  {
   "cell_type": "code",
   "execution_count": 48,
   "id": "763b0253",
   "metadata": {},
   "outputs": [
    {
     "data": {
      "text/plain": [
       "('Cassie', 800)"
      ]
     },
     "execution_count": 48,
     "metadata": {},
     "output_type": "execute_result"
    }
   ],
   "source": [
    "employee_check(work_hours)"
   ]
  },
  {
   "cell_type": "markdown",
   "id": "348a0459",
   "metadata": {},
   "source": [
    "### Interactions between functions"
   ]
  },
  {
   "cell_type": "markdown",
   "id": "0492da85",
   "metadata": {},
   "source": [
    "Functions often use results from other functions, let's see a simple example through a guessing game. There will be 3 positions in the list, one of which is an 'O', a function will shuffle the list, another will take a player's guess, and finally another will check to see if it is correct. "
   ]
  },
  {
   "cell_type": "code",
   "execution_count": 49,
   "id": "bf5856c8",
   "metadata": {},
   "outputs": [],
   "source": [
    "# How to shuffle a list in python\n",
    "example = [1,2,3,4,5]"
   ]
  },
  {
   "cell_type": "code",
   "execution_count": 50,
   "id": "c3754564",
   "metadata": {},
   "outputs": [],
   "source": [
    "from random import shuffle"
   ]
  },
  {
   "cell_type": "code",
   "execution_count": 51,
   "id": "75661281",
   "metadata": {},
   "outputs": [],
   "source": [
    "shuffle(example)"
   ]
  },
  {
   "cell_type": "code",
   "execution_count": 52,
   "id": "69791c77",
   "metadata": {},
   "outputs": [
    {
     "data": {
      "text/plain": [
       "[2, 3, 4, 5, 1]"
      ]
     },
     "execution_count": 52,
     "metadata": {},
     "output_type": "execute_result"
    }
   ],
   "source": [
    "example"
   ]
  },
  {
   "cell_type": "markdown",
   "id": "ba67e5e7",
   "metadata": {},
   "source": [
    "### create our simple game"
   ]
  },
  {
   "cell_type": "code",
   "execution_count": 53,
   "id": "fe50ab96",
   "metadata": {},
   "outputs": [],
   "source": [
    "mylist = [' ', 'O', ' ']"
   ]
  },
  {
   "cell_type": "code",
   "execution_count": 54,
   "id": "8e293b91",
   "metadata": {},
   "outputs": [],
   "source": [
    "def shuffle_list(mylist):\n",
    "    \n",
    "    shuffle(mylist)\n",
    "    \n",
    "    return mylist"
   ]
  },
  {
   "cell_type": "code",
   "execution_count": 55,
   "id": "71c5a74d",
   "metadata": {},
   "outputs": [
    {
     "data": {
      "text/plain": [
       "[' ', 'O', ' ']"
      ]
     },
     "execution_count": 55,
     "metadata": {},
     "output_type": "execute_result"
    }
   ],
   "source": [
    "mylist"
   ]
  },
  {
   "cell_type": "code",
   "execution_count": 56,
   "id": "8c411bbe",
   "metadata": {},
   "outputs": [
    {
     "data": {
      "text/plain": [
       "['O', ' ', ' ']"
      ]
     },
     "execution_count": 56,
     "metadata": {},
     "output_type": "execute_result"
    }
   ],
   "source": [
    "shuffle_list(mylist)"
   ]
  },
  {
   "cell_type": "code",
   "execution_count": 57,
   "id": "d39ddc42",
   "metadata": {},
   "outputs": [],
   "source": [
    "def player_guess():\n",
    "    \n",
    "    guess = ''\n",
    "    \n",
    "    while guess not in ['0','1','2']:\n",
    "        \n",
    "        guess = input('Pick a number : 0, 1, or 2 : ')\n",
    "        \n",
    "    return int(guess)"
   ]
  },
  {
   "cell_type": "code",
   "execution_count": 58,
   "id": "387c30cf",
   "metadata": {},
   "outputs": [
    {
     "name": "stdout",
     "output_type": "stream",
     "text": [
      "Pick a number : 0, 1, or 2 : 2\n"
     ]
    },
    {
     "data": {
      "text/plain": [
       "2"
      ]
     },
     "execution_count": 58,
     "metadata": {},
     "output_type": "execute_result"
    }
   ],
   "source": [
    "player_guess()"
   ]
  },
  {
   "cell_type": "markdown",
   "id": "9d29289b",
   "metadata": {},
   "source": [
    "#### check the user's guess."
   ]
  },
  {
   "cell_type": "code",
   "execution_count": 59,
   "id": "5e15b2fb",
   "metadata": {},
   "outputs": [],
   "source": [
    "def check_guess(mylist, guess):\n",
    "    if mylist[guess] == 'O':\n",
    "        print('Correct Guess!')\n",
    "    else:\n",
    "        print(\"Wrong! better luck next time\")\n",
    "        print(mylist)"
   ]
  },
  {
   "cell_type": "markdown",
   "id": "0c74b2f3",
   "metadata": {},
   "source": [
    "#### create a little setup logic to run all the functions"
   ]
  },
  {
   "cell_type": "code",
   "execution_count": 60,
   "id": "db865778",
   "metadata": {},
   "outputs": [
    {
     "name": "stdout",
     "output_type": "stream",
     "text": [
      "Pick a number : 0, 1, or 2 : 2\n",
      "Correct Guess!\n"
     ]
    }
   ],
   "source": [
    "#Initial list\n",
    "mylist = [' ', 'O', ' ']\n",
    "\n",
    "# shuffle list\n",
    "mix_list = shuffle_list(mylist)\n",
    "\n",
    "# Get user guess\n",
    "guess = player_guess()\n",
    "\n",
    "# check user's guess\n",
    "check_guess(mix_list, guess)"
   ]
  },
  {
   "cell_type": "code",
   "execution_count": null,
   "id": "765984df",
   "metadata": {},
   "outputs": [],
   "source": []
  }
 ],
 "metadata": {
  "kernelspec": {
   "display_name": "Python 3 (ipykernel)",
   "language": "python",
   "name": "python3"
  },
  "language_info": {
   "codemirror_mode": {
    "name": "ipython",
    "version": 3
   },
   "file_extension": ".py",
   "mimetype": "text/x-python",
   "name": "python",
   "nbconvert_exporter": "python",
   "pygments_lexer": "ipython3",
   "version": "3.11.5"
  }
 },
 "nbformat": 4,
 "nbformat_minor": 5
}
